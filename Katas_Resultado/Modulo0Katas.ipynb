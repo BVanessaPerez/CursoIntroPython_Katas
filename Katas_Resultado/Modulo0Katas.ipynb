{
 "cells": [
  {
   "cell_type": "markdown",
   "source": [
    "# Ejercicio: crea y ejecuta tu notebook\n",
    "\n",
    "Primero instalamos la biblioteca:"
   ],
   "metadata": {}
  },
  {
   "cell_type": "code",
   "execution_count": 8,
   "source": [
    "pip install ipywidgets"
   ],
   "outputs": [
    {
     "output_type": "stream",
     "name": "stdout",
     "text": [
      "Requirement already satisfied: ipywidgets in c:\\users\\vperezg\\appdata\\local\\programs\\python\\python310\\lib\\site-packages (7.6.5)\n",
      "Requirement already satisfied: nbformat>=4.2.0 in c:\\users\\vperezg\\appdata\\local\\programs\\python\\python310\\lib\\site-packages (from ipywidgets) (5.1.3)\n",
      "Requirement already satisfied: ipykernel>=4.5.1 in c:\\users\\vperezg\\appdata\\local\\programs\\python\\python310\\lib\\site-packages (from ipywidgets) (6.9.0)\n",
      "Requirement already satisfied: ipython-genutils~=0.2.0 in c:\\users\\vperezg\\appdata\\local\\programs\\python\\python310\\lib\\site-packages (from ipywidgets) (0.2.0)\n",
      "Requirement already satisfied: widgetsnbextension~=3.5.0 in c:\\users\\vperezg\\appdata\\local\\programs\\python\\python310\\lib\\site-packages (from ipywidgets) (3.5.2)\n",
      "Requirement already satisfied: jupyterlab-widgets>=1.0.0 in c:\\users\\vperezg\\appdata\\local\\programs\\python\\python310\\lib\\site-packages (from ipywidgets) (1.0.2)\n",
      "Requirement already satisfied: traitlets>=4.3.1 in c:\\users\\vperezg\\appdata\\local\\programs\\python\\python310\\lib\\site-packages (from ipywidgets) (5.1.1)\n",
      "Requirement already satisfied: ipython>=4.0.0 in c:\\users\\vperezg\\appdata\\local\\programs\\python\\python310\\lib\\site-packages (from ipywidgets) (8.0.1)\n",
      "Requirement already satisfied: jupyter-client<8.0 in c:\\users\\vperezg\\appdata\\local\\programs\\python\\python310\\lib\\site-packages (from ipykernel>=4.5.1->ipywidgets) (7.1.2)\n",
      "Requirement already satisfied: debugpy<2.0,>=1.0.0 in c:\\users\\vperezg\\appdata\\local\\programs\\python\\python310\\lib\\site-packages (from ipykernel>=4.5.1->ipywidgets) (1.5.1)\n",
      "Requirement already satisfied: matplotlib-inline<0.2.0,>=0.1.0 in c:\\users\\vperezg\\appdata\\local\\programs\\python\\python310\\lib\\site-packages (from ipykernel>=4.5.1->ipywidgets) (0.1.3)\n",
      "Requirement already satisfied: nest-asyncio in c:\\users\\vperezg\\appdata\\local\\programs\\python\\python310\\lib\\site-packages (from ipykernel>=4.5.1->ipywidgets) (1.5.4)\n",
      "Requirement already satisfied: tornado<7.0,>=4.2 in c:\\users\\vperezg\\appdata\\local\\programs\\python\\python310\\lib\\site-packages (from ipykernel>=4.5.1->ipywidgets) (6.1)\n",
      "Requirement already satisfied: pygments in c:\\users\\vperezg\\appdata\\local\\programs\\python\\python310\\lib\\site-packages (from ipython>=4.0.0->ipywidgets) (2.11.2)\n",
      "Requirement already satisfied: stack-data in c:\\users\\vperezg\\appdata\\local\\programs\\python\\python310\\lib\\site-packages (from ipython>=4.0.0->ipywidgets) (0.1.4)\n",
      "Requirement already satisfied: backcall in c:\\users\\vperezg\\appdata\\local\\programs\\python\\python310\\lib\\site-packages (from ipython>=4.0.0->ipywidgets) (0.2.0)\n",
      "Requirement already satisfied: prompt-toolkit!=3.0.0,!=3.0.1,<3.1.0,>=2.0.0 in c:\\users\\vperezg\\appdata\\local\\programs\\python\\python310\\lib\\site-packages (from ipython>=4.0.0->ipywidgets) (3.0.27)\n",
      "Requirement already satisfied: colorama in c:\\users\\vperezg\\appdata\\local\\programs\\python\\python310\\lib\\site-packages (from ipython>=4.0.0->ipywidgets) (0.4.4)\n",
      "Requirement already satisfied: pickleshare in c:\\users\\vperezg\\appdata\\local\\programs\\python\\python310\\lib\\site-packages (from ipython>=4.0.0->ipywidgets) (0.7.5)\n",
      "Requirement already satisfied: black in c:\\users\\vperezg\\appdata\\local\\programs\\python\\python310\\lib\\site-packages (from ipython>=4.0.0->ipywidgets) (22.1.0)\n",
      "Requirement already satisfied: jedi>=0.16 in c:\\users\\vperezg\\appdata\\local\\programs\\python\\python310\\lib\\site-packages (from ipython>=4.0.0->ipywidgets) (0.18.1)\n",
      "Requirement already satisfied: setuptools>=18.5 in c:\\users\\vperezg\\appdata\\local\\programs\\python\\python310\\lib\\site-packages (from ipython>=4.0.0->ipywidgets) (58.1.0)\n",
      "Requirement already satisfied: decorator in c:\\users\\vperezg\\appdata\\local\\programs\\python\\python310\\lib\\site-packages (from ipython>=4.0.0->ipywidgets) (5.1.1)\n",
      "Requirement already satisfied: parso<0.9.0,>=0.8.0 in c:\\users\\vperezg\\appdata\\local\\programs\\python\\python310\\lib\\site-packages (from jedi>=0.16->ipython>=4.0.0->ipywidgets) (0.8.3)\n",
      "Requirement already satisfied: jupyter-core>=4.6.0 in c:\\users\\vperezg\\appdata\\local\\programs\\python\\python310\\lib\\site-packages (from jupyter-client<8.0->ipykernel>=4.5.1->ipywidgets) (4.9.1)\n",
      "Requirement already satisfied: entrypoints in c:\\users\\vperezg\\appdata\\local\\programs\\python\\python310\\lib\\site-packages (from jupyter-client<8.0->ipykernel>=4.5.1->ipywidgets) (0.4)\n",
      "Requirement already satisfied: python-dateutil>=2.1 in c:\\users\\vperezg\\appdata\\local\\programs\\python\\python310\\lib\\site-packages (from jupyter-client<8.0->ipykernel>=4.5.1->ipywidgets) (2.8.2)\n",
      "Requirement already satisfied: pyzmq>=13 in c:\\users\\vperezg\\appdata\\local\\programs\\python\\python310\\lib\\site-packages (from jupyter-client<8.0->ipykernel>=4.5.1->ipywidgets) (22.3.0)\n",
      "Requirement already satisfied: pywin32>=1.0 in c:\\users\\vperezg\\appdata\\local\\programs\\python\\python310\\lib\\site-packages (from jupyter-core>=4.6.0->jupyter-client<8.0->ipykernel>=4.5.1->ipywidgets) (303)\n",
      "Requirement already satisfied: jsonschema!=2.5.0,>=2.4 in c:\\users\\vperezg\\appdata\\local\\programs\\python\\python310\\lib\\site-packages (from nbformat>=4.2.0->ipywidgets) (4.4.0)\n",
      "Requirement already satisfied: attrs>=17.4.0 in c:\\users\\vperezg\\appdata\\local\\programs\\python\\python310\\lib\\site-packages (from jsonschema!=2.5.0,>=2.4->nbformat>=4.2.0->ipywidgets) (21.4.0)\n",
      "Requirement already satisfied: pyrsistent!=0.17.0,!=0.17.1,!=0.17.2,>=0.14.0 in c:\\users\\vperezg\\appdata\\local\\programs\\python\\python310\\lib\\site-packages (from jsonschema!=2.5.0,>=2.4->nbformat>=4.2.0->ipywidgets) (0.18.1)\n",
      "Requirement already satisfied: wcwidth in c:\\users\\vperezg\\appdata\\local\\programs\\python\\python310\\lib\\site-packages (from prompt-toolkit!=3.0.0,!=3.0.1,<3.1.0,>=2.0.0->ipython>=4.0.0->ipywidgets) (0.2.5)\n",
      "Requirement already satisfied: six>=1.5 in c:\\users\\vperezg\\appdata\\local\\programs\\python\\python310\\lib\\site-packages (from python-dateutil>=2.1->jupyter-client<8.0->ipykernel>=4.5.1->ipywidgets) (1.16.0)\n",
      "Requirement already satisfied: notebook>=4.4.1 in c:\\users\\vperezg\\appdata\\local\\programs\\python\\python310\\lib\\site-packages (from widgetsnbextension~=3.5.0->ipywidgets) (6.4.8)\n",
      "Requirement already satisfied: Send2Trash>=1.8.0 in c:\\users\\vperezg\\appdata\\local\\programs\\python\\python310\\lib\\site-packages (from notebook>=4.4.1->widgetsnbextension~=3.5.0->ipywidgets) (1.8.0)\n",
      "Requirement already satisfied: terminado>=0.8.3 in c:\\users\\vperezg\\appdata\\local\\programs\\python\\python310\\lib\\site-packages (from notebook>=4.4.1->widgetsnbextension~=3.5.0->ipywidgets) (0.13.1)\n",
      "Requirement already satisfied: argon2-cffi in c:\\users\\vperezg\\appdata\\local\\programs\\python\\python310\\lib\\site-packages (from notebook>=4.4.1->widgetsnbextension~=3.5.0->ipywidgets) (21.3.0)\n",
      "Requirement already satisfied: nbconvert in c:\\users\\vperezg\\appdata\\local\\programs\\python\\python310\\lib\\site-packages (from notebook>=4.4.1->widgetsnbextension~=3.5.0->ipywidgets) (6.4.1)\n",
      "Requirement already satisfied: prometheus-client in c:\\users\\vperezg\\appdata\\local\\programs\\python\\python310\\lib\\site-packages (from notebook>=4.4.1->widgetsnbextension~=3.5.0->ipywidgets) (0.13.1)\n",
      "Requirement already satisfied: jinja2 in c:\\users\\vperezg\\appdata\\local\\programs\\python\\python310\\lib\\site-packages (from notebook>=4.4.1->widgetsnbextension~=3.5.0->ipywidgets) (3.0.3)\n",
      "Requirement already satisfied: pywinpty>=1.1.0 in c:\\users\\vperezg\\appdata\\local\\programs\\python\\python310\\lib\\site-packages (from terminado>=0.8.3->notebook>=4.4.1->widgetsnbextension~=3.5.0->ipywidgets) (2.0.2)\n",
      "Requirement already satisfied: argon2-cffi-bindings in c:\\users\\vperezg\\appdata\\local\\programs\\python\\python310\\lib\\site-packages (from argon2-cffi->notebook>=4.4.1->widgetsnbextension~=3.5.0->ipywidgets) (21.2.0)\n",
      "Requirement already satisfied: cffi>=1.0.1 in c:\\users\\vperezg\\appdata\\local\\programs\\python\\python310\\lib\\site-packages (from argon2-cffi-bindings->argon2-cffi->notebook>=4.4.1->widgetsnbextension~=3.5.0->ipywidgets) (1.15.0)\n",
      "Requirement already satisfied: pycparser in c:\\users\\vperezg\\appdata\\local\\programs\\python\\python310\\lib\\site-packages (from cffi>=1.0.1->argon2-cffi-bindings->argon2-cffi->notebook>=4.4.1->widgetsnbextension~=3.5.0->ipywidgets) (2.21)\n",
      "Requirement already satisfied: pathspec>=0.9.0 in c:\\users\\vperezg\\appdata\\local\\programs\\python\\python310\\lib\\site-packages (from black->ipython>=4.0.0->ipywidgets) (0.9.0)\n",
      "Requirement already satisfied: click>=8.0.0 in c:\\users\\vperezg\\appdata\\local\\programs\\python\\python310\\lib\\site-packages (from black->ipython>=4.0.0->ipywidgets) (8.0.3)\n",
      "Requirement already satisfied: platformdirs>=2 in c:\\users\\vperezg\\appdata\\local\\programs\\python\\python310\\lib\\site-packages (from black->ipython>=4.0.0->ipywidgets) (2.4.1)\n",
      "Requirement already satisfied: mypy-extensions>=0.4.3 in c:\\users\\vperezg\\appdata\\local\\programs\\python\\python310\\lib\\site-packages (from black->ipython>=4.0.0->ipywidgets) (0.4.3)\n",
      "Requirement already satisfied: tomli>=1.1.0 in c:\\users\\vperezg\\appdata\\local\\programs\\python\\python310\\lib\\site-packages (from black->ipython>=4.0.0->ipywidgets) (2.0.1)\n",
      "Requirement already satisfied: MarkupSafe>=2.0 in c:\\users\\vperezg\\appdata\\local\\programs\\python\\python310\\lib\\site-packages (from jinja2->notebook>=4.4.1->widgetsnbextension~=3.5.0->ipywidgets) (2.0.1)\n",
      "Requirement already satisfied: jupyterlab-pygments in c:\\users\\vperezg\\appdata\\local\\programs\\python\\python310\\lib\\site-packages (from nbconvert->notebook>=4.4.1->widgetsnbextension~=3.5.0->ipywidgets) (0.1.2)\n",
      "Requirement already satisfied: bleach in c:\\users\\vperezg\\appdata\\local\\programs\\python\\python310\\lib\\site-packages (from nbconvert->notebook>=4.4.1->widgetsnbextension~=3.5.0->ipywidgets) (4.1.0)\n",
      "Requirement already satisfied: mistune<2,>=0.8.1 in c:\\users\\vperezg\\appdata\\local\\programs\\python\\python310\\lib\\site-packages (from nbconvert->notebook>=4.4.1->widgetsnbextension~=3.5.0->ipywidgets) (0.8.4)\n",
      "Requirement already satisfied: pandocfilters>=1.4.1 in c:\\users\\vperezg\\appdata\\local\\programs\\python\\python310\\lib\\site-packages (from nbconvert->notebook>=4.4.1->widgetsnbextension~=3.5.0->ipywidgets) (1.5.0)\n",
      "Requirement already satisfied: testpath in c:\\users\\vperezg\\appdata\\local\\programs\\python\\python310\\lib\\site-packages (from nbconvert->notebook>=4.4.1->widgetsnbextension~=3.5.0->ipywidgets) (0.5.0)\n",
      "Requirement already satisfied: nbclient<0.6.0,>=0.5.0 in c:\\users\\vperezg\\appdata\\local\\programs\\python\\python310\\lib\\site-packages (from nbconvert->notebook>=4.4.1->widgetsnbextension~=3.5.0->ipywidgets) (0.5.10)\n",
      "Requirement already satisfied: defusedxml in c:\\users\\vperezg\\appdata\\local\\programs\\python\\python310\\lib\\site-packages (from nbconvert->notebook>=4.4.1->widgetsnbextension~=3.5.0->ipywidgets) (0.7.1)\n",
      "Requirement already satisfied: packaging in c:\\users\\vperezg\\appdata\\local\\programs\\python\\python310\\lib\\site-packages (from bleach->nbconvert->notebook>=4.4.1->widgetsnbextension~=3.5.0->ipywidgets) (21.3)\n",
      "Requirement already satisfied: webencodings in c:\\users\\vperezg\\appdata\\local\\programs\\python\\python310\\lib\\site-packages (from bleach->nbconvert->notebook>=4.4.1->widgetsnbextension~=3.5.0->ipywidgets) (0.5.1)\n",
      "Requirement already satisfied: pyparsing!=3.0.5,>=2.0.2 in c:\\users\\vperezg\\appdata\\local\\programs\\python\\python310\\lib\\site-packages (from packaging->bleach->nbconvert->notebook>=4.4.1->widgetsnbextension~=3.5.0->ipywidgets) (3.0.7)\n",
      "Requirement already satisfied: asttokens in c:\\users\\vperezg\\appdata\\local\\programs\\python\\python310\\lib\\site-packages (from stack-data->ipython>=4.0.0->ipywidgets) (2.0.5)\n",
      "Requirement already satisfied: executing in c:\\users\\vperezg\\appdata\\local\\programs\\python\\python310\\lib\\site-packages (from stack-data->ipython>=4.0.0->ipywidgets) (0.8.2)\n",
      "Requirement already satisfied: pure-eval in c:\\users\\vperezg\\appdata\\local\\programs\\python\\python310\\lib\\site-packages (from stack-data->ipython>=4.0.0->ipywidgets) (0.2.2)\n",
      "Note: you may need to restart the kernel to use updated packages.\n"
     ]
    },
    {
     "output_type": "stream",
     "name": "stderr",
     "text": [
      "WARNING: You are using pip version 21.2.4; however, version 22.0.3 is available.\n",
      "You should consider upgrading via the 'C:\\Users\\vperezg\\AppData\\Local\\Programs\\Python\\Python310\\python.exe -m pip install --upgrade pip' command.\n"
     ]
    }
   ],
   "metadata": {}
  },
  {
   "cell_type": "code",
   "execution_count": 15,
   "source": [
    "import ipywidgets as widgets\r\n",
    "\r\n",
    "ignition = widgets.ToggleButton(\r\n",
    "    value=False,\r\n",
    "    description='Despegar Launch',\r\n",
    "    button_style='success',\r\n",
    "    tooltip='Engage your Launch',\r\n",
    "    icon='rocket'\r\n",
    ")\r\n",
    "\r\n",
    "output = widgets.Output()\r\n",
    "\r\n",
    "display(ignition, output)\r\n",
    "\r\n",
    "def on_value_change(change):\r\n",
    "    with output:\r\n",
    "        if change['new'] == True:\r\n",
    "            print(\"Nave Iniciada!\")\r\n",
    "        else:   \r\n",
    "            print(\"Nave Detenida!\")\r\n",
    "\r\n",
    "ignition.observe(on_value_change, names='value')"
   ],
   "outputs": [
    {
     "output_type": "display_data",
     "data": {
      "application/vnd.jupyter.widget-view+json": {
       "version_major": 2,
       "version_minor": 0,
       "model_id": "54ddf2183c5e4b95a924c2be901a1b0b"
      },
      "text/plain": [
       "ToggleButton(value=False, button_style='success', description='Despegar Launch', icon='rocket', tooltip='Engag…"
      ]
     },
     "metadata": {}
    },
    {
     "output_type": "display_data",
     "data": {
      "application/vnd.jupyter.widget-view+json": {
       "version_major": 2,
       "version_minor": 0,
       "model_id": "97450e52562346f180fe1c083b5fcbb6"
      },
      "text/plain": [
       "Output()"
      ]
     },
     "metadata": {}
    }
   ],
   "metadata": {}
  },
  {
   "cell_type": "markdown",
   "source": [
    "## Ejercicio 2: Usar comandos avanzados"
   ],
   "metadata": {}
  },
  {
   "cell_type": "code",
   "execution_count": 10,
   "source": [
    "%pip install matplotlib\r\n",
    "%pip install numpy"
   ],
   "outputs": [
    {
     "output_type": "stream",
     "name": "stdout",
     "text": [
      "Requirement already satisfied: matplotlib in c:\\users\\vperezg\\appdata\\local\\programs\\python\\python310\\lib\\site-packages (3.5.1)\n",
      "Requirement already satisfied: kiwisolver>=1.0.1 in c:\\users\\vperezg\\appdata\\local\\programs\\python\\python310\\lib\\site-packages (from matplotlib) (1.3.2)\n",
      "Requirement already satisfied: pyparsing>=2.2.1 in c:\\users\\vperezg\\appdata\\local\\programs\\python\\python310\\lib\\site-packages (from matplotlib) (3.0.7)\n",
      "Requirement already satisfied: pillow>=6.2.0 in c:\\users\\vperezg\\appdata\\local\\programs\\python\\python310\\lib\\site-packages (from matplotlib) (9.0.1)\n",
      "Requirement already satisfied: fonttools>=4.22.0 in c:\\users\\vperezg\\appdata\\local\\programs\\python\\python310\\lib\\site-packages (from matplotlib) (4.29.1)\n",
      "Requirement already satisfied: packaging>=20.0 in c:\\users\\vperezg\\appdata\\local\\programs\\python\\python310\\lib\\site-packages (from matplotlib) (21.3)\n",
      "Requirement already satisfied: numpy>=1.17 in c:\\users\\vperezg\\appdata\\local\\programs\\python\\python310\\lib\\site-packages (from matplotlib) (1.22.2)\n",
      "Requirement already satisfied: cycler>=0.10 in c:\\users\\vperezg\\appdata\\local\\programs\\python\\python310\\lib\\site-packages (from matplotlib) (0.11.0)Note: you may need to restart the kernel to use updated packages.\n"
     ]
    },
    {
     "output_type": "stream",
     "name": "stderr",
     "text": [
      "WARNING: You are using pip version 21.2.4; however, version 22.0.3 is available.\n",
      "You should consider upgrading via the 'C:\\Users\\vperezg\\AppData\\Local\\Programs\\Python\\Python310\\python.exe -m pip install --upgrade pip' command.\n"
     ]
    },
    {
     "output_type": "stream",
     "name": "stdout",
     "text": [
      "\n",
      "Requirement already satisfied: python-dateutil>=2.7 in c:\\users\\vperezg\\appdata\\local\\programs\\python\\python310\\lib\\site-packages (from matplotlib) (2.8.2)\n",
      "Requirement already satisfied: six>=1.5 in c:\\users\\vperezg\\appdata\\local\\programs\\python\\python310\\lib\\site-packages (from python-dateutil>=2.7->matplotlib) (1.16.0)\n",
      "Requirement already satisfied: numpy in c:\\users\\vperezg\\appdata\\local\\programs\\python\\python310\\lib\\site-packages (1.22.2)\n",
      "Note: you may need to restart the kernel to use updated packages.\n"
     ]
    },
    {
     "output_type": "stream",
     "name": "stderr",
     "text": [
      "WARNING: You are using pip version 21.2.4; however, version 22.0.3 is available.\n",
      "You should consider upgrading via the 'C:\\Users\\vperezg\\AppData\\Local\\Programs\\Python\\Python310\\python.exe -m pip install --upgrade pip' command.\n"
     ]
    }
   ],
   "metadata": {}
  },
  {
   "cell_type": "markdown",
   "source": [
    "## Niveles de Oxígeno\n",
    "Muestra diez minutos de niveles de oxígeno en tu nave."
   ],
   "metadata": {}
  },
  {
   "cell_type": "code",
   "execution_count": 18,
   "source": [
    "import numpy as np\r\n",
    "import matplotlib.pyplot as plt\r\n",
    "data = np.random.default_rng(32234678)\r\n",
    "oxy_nums = data.integers(low=0, high=10, size=10)\r\n",
    "\r\n",
    "plt.bar(range(len(oxy_nums)), oxy_nums)\r\n",
    "plt.show()"
   ],
   "outputs": [
    {
     "output_type": "display_data",
     "data": {
      "image/png": "[encoded data removed]",
      "text/plain": [
       "<Figure size 432x288 with 1 Axes>"
      ]
     },
     "metadata": {
      "needs_background": "light"
     }
    }
   ],
   "metadata": {}
  },
  {
   "cell_type": "markdown",
   "source": [
    "## Velocidad de la nave\n",
    "\n",
    "Muestra los segundos necesarios para pasar de 0 a 11200 metros por segundo, dada la aceleración de la nave en metros por segundo."
   ],
   "metadata": {}
  },
  {
   "cell_type": "code",
   "execution_count": 19,
   "source": [
    "endVelocity = 345677\r\n",
    "startVelocity = 0\r\n",
    "acceleration = 9.8\r\n",
    "\r\n",
    "time = (endVelocity - startVelocity) / acceleration\r\n",
    "print(\"Tiempo para alcanzar la velocidad deseada = \", time)"
   ],
   "outputs": [
    {
     "output_type": "stream",
     "name": "stdout",
     "text": [
      "Tiempo para alcanzar la velocidad deseada =  35273.16326530612\n"
     ]
    }
   ],
   "metadata": {}
  },
  {
   "cell_type": "markdown",
   "source": [
    "Curso Propedútico de Python para Launch X - Innovacción Virtual.\n",
    "\n",
    "Material desarrollado con base en los contenidos de MSLearn y la metáfora de LaunchX, traducción e implementación por: Fernanda Ochoa - Learning Producer de LaunchX.\n",
    "\n",
    "Redes:\n",
    "* GitHub: [FernandaOchoa](https://github.com/FernandaOchoa)\n",
    "* Twitter: [@imonsh](https://twitter.com/imonsh)\n",
    "* Instagram: [fherz8a](https://www.instagram.com/fherz8a/)"
   ],
   "metadata": {}
  }
 ],
 "metadata": {
  "interpreter": {
   "hash": "f675217ea639d207d53053e006b175ed1b398b2438eb8d363510ff31abaf473c"
  },
  "kernelspec": {
   "name": "python3",
   "display_name": "Python 3.10.2 64-bit"
  },
  "language_info": {
   "codemirror_mode": {
    "name": "ipython",
    "version": 3
   },
   "file_extension": ".py",
   "mimetype": "text/x-python",
   "name": "python",
   "nbconvert_exporter": "python",
   "pygments_lexer": "ipython3",
   "version": "3.10.2"
  },
  "orig_nbformat": 4
 },
 "nbformat": 4,
 "nbformat_minor": 2
}