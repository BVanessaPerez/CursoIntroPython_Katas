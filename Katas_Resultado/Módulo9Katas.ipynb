{
  "cells": [
    {
      "cell_type": "markdown",
      "source": [
        "# Ejercicio: Uso de funciones en Python"
      ],
      "metadata": {}
    },
    {
      "cell_type": "markdown",
      "source": [
        "### Ejercicio 1: Trabajar con argumentos en funciones\n",
        "\n",
        "Los argumentos requeridos en las funciones se utilizan cuando las funciones necesitan que esos argumentos funcionen correctamente. En este ejercicio, construirás un informe de combustible que requiere información de varias ubicaciones de combustible en todo el cohete.\n",
        "\n"
      ],
      "metadata": {}
    },
    {
      "cell_type": "markdown",
      "source": [
        "> **TIP**\n",
        "> Dedica unos minutos para tratar de encontrar una solución. Luego desplázate hacia abajo hasta la parte inferior para ver si has logrado compilar el programa de acuerdo con las especificaciones\n",
        "\n",
        "Comienza por crear una función que necesite tres lecturas de combustible y devuelva un informe:"
      ],
      "metadata": {}
    },
    {
      "cell_type": "code",
      "execution_count": 49,
      "source": [
        "# Función para leer 3 tanques de combustible y muestre el promedio\r\n",
        "def Informe(tanque1, tanque2, tanque3):\r\n",
        "    total = (tanque1 + tanque2 + tanque3) / 3\r\n",
        "    return f\"\"\"Reporte de gasolina:\\n Total : {total}%\\n tanque1: {tanque1}% \\n tanque2: {tanque2}% \\n tanque3: {tanque3}%  \"\"\"\r\n"
      ],
      "outputs": [],
      "metadata": {}
    },
    {
      "cell_type": "markdown",
      "source": [
        "Ahora que hemos definido la función de informes, vamos a comprobarlo. Para esta misión, los tanques no están llenos:"
      ],
      "metadata": {}
    },
    {
      "cell_type": "code",
      "execution_count": 50,
      "source": [
        "\r\n",
        "# Llamamos a la función que genera el reporte print(funcion(tanque1, tanque2, tanque3))\r\n",
        "print (Informe(20,60,70))"
      ],
      "outputs": [
        {
          "output_type": "stream",
          "name": "stdout",
          "text": [
            "Reporte de gasolina:\n",
            " Total : 50.0%\n",
            " tanque1: 20% \n",
            " tanque2: 60% \n",
            " tanque3: 70%  \n"
          ]
        }
      ],
      "metadata": {}
    },
    {
      "cell_type": "markdown",
      "source": [
        "En lugar de simplemente crear el informe, la función también está calculando el promedio. Mejora la legibilidad extrayendo el cálculo promedio de la función en una nueva función para que el promedio se pueda hacer de forma independiente:"
      ],
      "metadata": {}
    },
    {
      "cell_type": "code",
      "execution_count": 29,
      "source": [
        "# Función promedio \r\n",
        "def promedio(dato):\r\n",
        "    total = sum(dato)\r\n",
        "    calculo = len(dato)\r\n",
        "    return total / calculo\r\n",
        "\r\n",
        "# Test the averaging function with a list of integers:\r\n",
        "promedio([80, 85, 81]) "
      ],
      "outputs": [
        {
          "output_type": "execute_result",
          "data": {
            "text/plain": [
              "82.0"
            ]
          },
          "metadata": {},
          "execution_count": 29
        }
      ],
      "metadata": {}
    },
    {
      "cell_type": "markdown",
      "source": [
        "Ahora actualiza la función de informes para llamando a la nueva función del promedio:\n"
      ],
      "metadata": {}
    },
    {
      "cell_type": "code",
      "execution_count": 58,
      "source": [
        "# Actualiza la función --No lo pude hacer\r\n",
        "\r\n",
        "def Informe(tanque1, tanque2, tanque3):\r\n",
        "    total = (tanque1 + tanque2 + tanque3) / 3 \r\n",
        "    porcentaj=promedio(total)\r\n",
        "    return f\"\"\"Reporte de gasolina:\\n Total : {total}%\\n promedio:{promedio}\\n tanque1: {tanque1}% \\n tanque2: {tanque2}% \\n tanque3: {tanque3}%  \"\"\"\r\n"
      ],
      "outputs": [],
      "metadata": {}
    },
    {
      "cell_type": "code",
      "execution_count": 56,
      "source": [
        "Informe(80, 85, 81) "
      ],
      "outputs": [
        {
          "output_type": "error",
          "ename": "TypeError",
          "evalue": "'float' object is not iterable",
          "traceback": [
            "\u001b[1;31m---------------------------------------------------------------------------\u001b[0m",
            "\u001b[1;31mTypeError\u001b[0m                                 Traceback (most recent call last)",
            "Input \u001b[1;32mIn [56]\u001b[0m, in \u001b[0;36m<module>\u001b[1;34m\u001b[0m\n\u001b[1;32m----> 1\u001b[0m \u001b[43mInforme\u001b[49m\u001b[43m(\u001b[49m\u001b[38;5;241;43m80\u001b[39;49m\u001b[43m,\u001b[49m\u001b[43m \u001b[49m\u001b[38;5;241;43m85\u001b[39;49m\u001b[43m,\u001b[49m\u001b[43m \u001b[49m\u001b[38;5;241;43m81\u001b[39;49m\u001b[43m)\u001b[49m\n",
            "Input \u001b[1;32mIn [54]\u001b[0m, in \u001b[0;36mInforme\u001b[1;34m(tanque1, tanque2, tanque3)\u001b[0m\n\u001b[0;32m      2\u001b[0m \u001b[38;5;28;01mdef\u001b[39;00m \u001b[38;5;21mInforme\u001b[39m(tanque1, tanque2, tanque3):\n\u001b[0;32m      3\u001b[0m     total \u001b[38;5;241m=\u001b[39m (tanque1 \u001b[38;5;241m+\u001b[39m tanque2 \u001b[38;5;241m+\u001b[39m tanque3) \u001b[38;5;241m/\u001b[39m \u001b[38;5;241m3\u001b[39m \n\u001b[1;32m----> 4\u001b[0m     porcentaj\u001b[38;5;241m=\u001b[39m\u001b[43mpromedio\u001b[49m\u001b[43m(\u001b[49m\u001b[43mtotal\u001b[49m\u001b[43m)\u001b[49m\n\u001b[0;32m      5\u001b[0m     \u001b[38;5;28;01mreturn\u001b[39;00m \u001b[38;5;124mf\u001b[39m\u001b[38;5;124m\"\"\"\u001b[39m\u001b[38;5;124mReporte de gasolina:\u001b[39m\u001b[38;5;130;01m\\n\u001b[39;00m\u001b[38;5;124m Total : \u001b[39m\u001b[38;5;132;01m{\u001b[39;00mtotal\u001b[38;5;132;01m}\u001b[39;00m\u001b[38;5;124m%\u001b[39m\u001b[38;5;130;01m\\n\u001b[39;00m\u001b[38;5;124m promedio:\u001b[39m\u001b[38;5;132;01m{\u001b[39;00mpromedio\u001b[38;5;132;01m}\u001b[39;00m\u001b[38;5;130;01m\\n\u001b[39;00m\u001b[38;5;124m tanque1: \u001b[39m\u001b[38;5;132;01m{\u001b[39;00mtanque1\u001b[38;5;132;01m}\u001b[39;00m\u001b[38;5;124m% \u001b[39m\u001b[38;5;130;01m\\n\u001b[39;00m\u001b[38;5;124m tanque2: \u001b[39m\u001b[38;5;132;01m{\u001b[39;00mtanque2\u001b[38;5;132;01m}\u001b[39;00m\u001b[38;5;124m% \u001b[39m\u001b[38;5;130;01m\\n\u001b[39;00m\u001b[38;5;124m tanque3: \u001b[39m\u001b[38;5;132;01m{\u001b[39;00mtanque3\u001b[38;5;132;01m}\u001b[39;00m\u001b[38;5;124m%  \u001b[39m\u001b[38;5;124m\"\"\"\u001b[39m\n",
            "Input \u001b[1;32mIn [29]\u001b[0m, in \u001b[0;36mpromedio\u001b[1;34m(dato)\u001b[0m\n\u001b[0;32m      2\u001b[0m \u001b[38;5;28;01mdef\u001b[39;00m \u001b[38;5;21mpromedio\u001b[39m(dato):\n\u001b[1;32m----> 3\u001b[0m     total \u001b[38;5;241m=\u001b[39m \u001b[38;5;28;43msum\u001b[39;49m\u001b[43m(\u001b[49m\u001b[43mdato\u001b[49m\u001b[43m)\u001b[49m\n\u001b[0;32m      4\u001b[0m     calculo \u001b[38;5;241m=\u001b[39m \u001b[38;5;28mlen\u001b[39m(dato)\n\u001b[0;32m      5\u001b[0m     \u001b[38;5;28;01mreturn\u001b[39;00m total \u001b[38;5;241m/\u001b[39m calculo\n",
            "\u001b[1;31mTypeError\u001b[0m: 'float' object is not iterable"
          ]
        }
      ],
      "metadata": {}
    },
    {
      "cell_type": "markdown",
      "source": [
        "> Recuerda: Lo importante es intentarlo, puedes auxiliarte de internet, libros, etc. El objetivo de una kata es la comprobación de la comprensión de la lección y su aplicación inmediata a la resolución de problemas. Go for it!"
      ],
      "metadata": {}
    },
    {
      "cell_type": "markdown",
      "source": [
        "## Ejercicio 2: Trabajo con argumentos de palabra clave"
      ],
      "metadata": {}
    },
    {
      "cell_type": "markdown",
      "source": [
        "### Ejercicio : Trabajar con argumentos de palabras clave en funciones\n",
        "En este ejercicio, construirás un informe de cohete que requiere varias piezas de información, como el tiempo hasta el destino, el combustible a la izquierda y el nombre del destino. Comienza por crear una función que creará un informe preciso de la misión:"
      ],
      "metadata": {}
    },
    {
      "cell_type": "code",
      "execution_count": 65,
      "source": [
        "# Función con un informe preciso de la misión. Considera hora de prelanzamiento, tiempo de vuelo, destino, tanque externo y tanque interno\r\n",
        "\r\n",
        "def Informe_mision(prelanzamiento, tiempo_Vuelo, Destino, Tanque_ext, Tanque_Princ):\r\n",
        "    return f\"\"\" La mision hacia {Destino}\\n tiempo de vuelo: {tiempo_Vuelo} minutos\\n Total de tanque: {Tanque_ext + Tanque_Princ} \r\n",
        "    \"\"\"\r\n",
        "\r\n",
        "print(Informe_mision(60, 20, \"Tierra\", 23433, 567))"
      ],
      "outputs": [
        {
          "output_type": "stream",
          "name": "stdout",
          "text": [
            " La mision hacia Tierra\n",
            " tiempo de vuelo: 20 minutos\n",
            " Total de tanque: 24000 \n",
            "    \n"
          ]
        }
      ],
      "metadata": {}
    },
    {
      "cell_type": "markdown",
      "source": [
        "La función es problemática porque no se puede adaptar para minutos adicionales o tanques adicionales de combustible. Hazlo más flexible permitiendo cualquier número de pasos basados en el tiempo y cualquier número de tanques. En lugar de usar `*args` y `**kwargs`, aprovecha el hecho de que puedes usar cualquier nombre que desees. Asegurate que la función sea más legible mediante el uso de nombres de variables que están asociados con las entradas, como `*minutes` y `**fuel_reservoirs`:"
      ],
      "metadata": {}
    },
    {
      "cell_type": "code",
      "execution_count": 68,
      "source": [
        "# Escribe tu nueva función de reporte considerando lo anterior\r\n",
        "def mission_report(Destino, *minutes, **fuel_reservoirs):\r\n",
        "    return f\"\"\" Mision hacia {Destino}\r\n",
        "    Total del viaje: {sum(minutes)} Minutos\r\n",
        "    Total del tanque: {sum(fuel_reservoirs.values())}\r\n",
        "    \"\"\"\r\n",
        "\r\n",
        "print(mission_report(\"Tierra\", 33, 54, 23, main=5565, external=89789))"
      ],
      "outputs": [
        {
          "output_type": "stream",
          "name": "stdout",
          "text": [
            " Mision hacia Tierra\n",
            "    Total del viaje: 110 Minutos\n",
            "    Total del tanque: 95354\n",
            "    \n"
          ]
        }
      ],
      "metadata": {}
    },
    {
      "cell_type": "markdown",
      "source": [
        "Debido a que el combustible que queda en los tanques es específico de cada tanque, actualiza la función para usar el nombre de cada tanque en el informe:"
      ],
      "metadata": {}
    },
    {
      "cell_type": "code",
      "execution_count": 70,
      "source": [
        "# Escribe tu nueva función -- No me salio\r\n",
        "def mission_report(destino, *minutes, **fuel_reservoirs):\r\n",
        "    main_report = f\"\"\"\r\n",
        "    Mission to {destino}\r\n",
        "    Total travel time: {sum(minutes)} minutes\r\n",
        "    Total fuel left: {sum(fuel_reservoirs.values())}\r\n",
        "    \"\"\"\r\n",
        "    for tank_name, gallons in fuel_reservoirs.items():\r\n",
        "        main_report += f\"{tank_name} tank --> {gallons} gallons left\\n\"\r\n",
        "    return main_report\r\n",
        "\r\n",
        "print(mission_report(\"Tierra\", 23, 34, 89, main=1234, external=3457))"
      ],
      "outputs": [
        {
          "output_type": "stream",
          "name": "stdout",
          "text": [
            "\n",
            "    Mission to Tierra\n",
            "    Total travel time: 146 minutes\n",
            "    Total fuel left: 4691\n",
            "    main tank --> 1234 gallons left\n",
            "external tank --> 3457 gallons left\n",
            "\n"
          ]
        }
      ],
      "metadata": {}
    },
    {
      "cell_type": "markdown",
      "source": [
        "## Soluciones"
      ],
      "metadata": {}
    },
    {
      "cell_type": "markdown",
      "source": [
        "## Ejercicio 1"
      ],
      "metadata": {}
    },
    {
      "cell_type": "code",
      "execution_count": 2,
      "source": [
        "# Función para leer 3 tanques de combustible y muestre el promedio\r\n",
        "\r\n",
        "def generate_report(main_tank, external_tank, hydrogen_tank):\r\n",
        "    total_average = (main_tank + external_tank + hydrogen_tank) / 3\r\n",
        "    return f\"\"\"Fuel Report:\r\n",
        "    Total Average: {total_average}%\r\n",
        "    Main tank: {main_tank}%\r\n",
        "    External tank: {external_tank}%\r\n",
        "    Hydrogen tank: {hydrogen_tank}% \r\n",
        "    \"\"\"\r\n"
      ],
      "outputs": [],
      "metadata": {}
    },
    {
      "cell_type": "code",
      "execution_count": 3,
      "source": [
        "# Llamamos a la función que genera el reporte print(funcion(tanque1, tanque2, tanque3))\r\n",
        "print(generate_report(80, 70, 85))"
      ],
      "outputs": [
        {
          "output_type": "stream",
          "name": "stdout",
          "text": [
            "Fuel Report:\n",
            "    Total Average: 78.33333333333333%\n",
            "    Main tank: 80%\n",
            "    External tank: 70%\n",
            "    Hydrogen tank: 85% \n",
            "    \n"
          ]
        }
      ],
      "metadata": {}
    },
    {
      "cell_type": "code",
      "execution_count": 24,
      "source": [
        "# Función promedio \r\n",
        "def average(values):\r\n",
        "    total = sum(values)\r\n",
        "    number_of_items = len(values)\r\n",
        "    return total / number_of_items\r\n",
        "\r\n",
        "# Test the averaging function with a list of integers:\r\n",
        "average([80, 85, 81]) "
      ],
      "outputs": [
        {
          "output_type": "execute_result",
          "data": {
            "text/plain": [
              "82.0"
            ]
          },
          "metadata": {},
          "execution_count": 24
        }
      ],
      "metadata": {}
    },
    {
      "cell_type": "code",
      "execution_count": 57,
      "source": [
        "# Actualiza la función\r\n",
        "def generate_report(main_tank, external_tank, hydrogen_tank):\r\n",
        "    return f\"\"\"Fuel Report:\r\n",
        "    Total Average: {average([main_tank, external_tank, hydrogen_tank])}%\r\n",
        "    Main tank: {main_tank}%\r\n",
        "    External tank: {external_tank}%\r\n",
        "    Hydrogen tank: {hydrogen_tank}% \r\n",
        "    \"\"\"\r\n",
        "\r\n",
        "# Call the updated function again with different values\r\n",
        "print(generate_report(88, 76, 70))"
      ],
      "outputs": [
        {
          "output_type": "stream",
          "name": "stdout",
          "text": [
            "Fuel Report:\n",
            "    Total Average: 78.0%\n",
            "    Main tank: 88%\n",
            "    External tank: 76%\n",
            "    Hydrogen tank: 70% \n",
            "    \n"
          ]
        }
      ],
      "metadata": {}
    },
    {
      "cell_type": "markdown",
      "source": [
        "### Ejercicio 2:"
      ],
      "metadata": {}
    },
    {
      "cell_type": "code",
      "execution_count": null,
      "source": [
        "# Función con un informe preciso de la misión. Considera hora de prelanzamiento, tiempo de vuelo, destino, tanque externo y tanque interno\r\n",
        "\r\n",
        "def mission_report(pre_launch_time, flight_time, destination, external_tank, main_tank):\r\n",
        "    return f\"\"\"\r\n",
        "    Mission to {destination}\r\n",
        "    Total travel time: {pre_launch_time + flight_time} minutes\r\n",
        "    Total fuel left: {external_tank + main_tank} gallons\r\n",
        "    \"\"\"\r\n",
        "\r\n",
        "print(mission_report(14, 51, \"Moon\", 200000, 300000))"
      ],
      "outputs": [],
      "metadata": {}
    },
    {
      "cell_type": "code",
      "execution_count": null,
      "source": [
        "# Escribe tu nueva función de reporte considerando lo anterior\r\n",
        "\r\n",
        "def mission_report(destination, *minutes, **fuel_reservoirs):\r\n",
        "    return f\"\"\"\r\n",
        "    Mission to {destination}\r\n",
        "    Total travel time: {sum(minutes)} minutes\r\n",
        "    Total fuel left: {sum(fuel_reservoirs.values())}\r\n",
        "    \"\"\"\r\n",
        "\r\n",
        "print(mission_report(\"Moon\", 10, 15, 51, main=300000, external=200000))"
      ],
      "outputs": [],
      "metadata": {}
    },
    {
      "cell_type": "code",
      "execution_count": null,
      "source": [
        "# Escribe tu nueva función\r\n",
        "\r\n",
        "def mission_report(destination, *minutes, **fuel_reservoirs):\r\n",
        "    main_report = f\"\"\"\r\n",
        "    Mission to {destination}\r\n",
        "    Total travel time: {sum(minutes)} minutes\r\n",
        "    Total fuel left: {sum(fuel_reservoirs.values())}\r\n",
        "    \"\"\"\r\n",
        "    for tank_name, gallons in fuel_reservoirs.items():\r\n",
        "        main_report += f\"{tank_name} tank --> {gallons} gallons left\\n\"\r\n",
        "    return main_report\r\n",
        "\r\n",
        "print(mission_report(\"Moon\", 8, 11, 55, main=300000, external=200000))"
      ],
      "outputs": [],
      "metadata": {}
    },
    {
      "cell_type": "markdown",
      "source": [
        "---\n",
        "\n",
        "Curso Propedútico de Python para Launch X - Innovacción Virtual.\n",
        "\n",
        "Material desarrollado con base en los contenidos de MSLearn y la metáfora de LaunchX, traducción e implementación por: Fernanda Ochoa - Learning Producer de LaunchX.\n",
        "\n",
        "Redes:\n",
        "* GitHub: [FernandaOchoa](https://github.com/FernandaOchoa)\n",
        "* Twitter: [@imonsh](https://twitter.com/imonsh)\n",
        "* Instagram: [fherz8a](https://www.instagram.com/fherz8a/)"
      ],
      "metadata": {}
    }
  ],
  "metadata": {
    "interpreter": {
      "hash": "f675217ea639d207d53053e006b175ed1b398b2438eb8d363510ff31abaf473c"
    },
    "kernelspec": {
      "name": "python3",
      "display_name": "Python 3.10.2 64-bit"
    },
    "language_info": {
      "codemirror_mode": {
        "name": "ipython",
        "version": 3
      },
      "file_extension": ".py",
      "mimetype": "text/x-python",
      "name": "python",
      "nbconvert_exporter": "python",
      "pygments_lexer": "ipython3",
      "version": "3.10.2"
    },
    "nteract": {
      "version": "nteract-front-end@1.0.0"
    },
    "orig_nbformat": 4
  },
  "nbformat": 4,
  "nbformat_minor": 2
}